{
 "cells": [
  {
   "cell_type": "raw",
   "id": "9cd213a8",
   "metadata": {},
   "source": [
    "---\n",
    "title: \"Using tidy_tweet and SQL queries in Python\"\n",
    "format:\n",
    "    html:\n",
    "        code-fold: false\n",
    "        code-line-numbers: true\n",
    "jupyter: python3\n",
    "---"
   ]
  },
  {
   "cell_type": "markdown",
   "id": "42352ce2",
   "metadata": {},
   "source": [
    "To do to make this a real tutorial:\n",
    "\n",
    "- use Twarc programmatically to download json\n",
    "- nicer file path setup/config\n",
    "- fill in initial instructions"
   ]
  },
  {
   "cell_type": "markdown",
   "id": "b6fe6591",
   "metadata": {},
   "source": [
    "Run this page locally as a Jupyter notebook by downloading it... (*instructions*)\n",
    "\n",
    "(*Python3 and jupyter instructions*)"
   ]
  },
  {
   "cell_type": "markdown",
   "id": "31d2db72",
   "metadata": {},
   "source": [
    "## Setup and configuration"
   ]
  },
  {
   "cell_type": "markdown",
   "id": "c9506997",
   "metadata": {},
   "source": [
    "Libraries used:\n",
    "\n",
    "- `tidy_tweet`: link to installation instructions\n",
    "- [`pathlib`](https://docs.python.org/3/library/pathlib.html): file path utility, does not require installation as is included in the Python Standard Library\n",
    "- [`sqlite3`](https://docs.python.org/3/library/sqlite3.html): Python interface for [SQLite](https://sqlite.org) databases, does not require installation as is included in the Python Standard Library\n",
    "\n",
    "*tabulate and Ipython explanations - maybe import them in the section they're used*"
   ]
  },
  {
   "cell_type": "code",
   "execution_count": null,
   "id": "dcaa4246",
   "metadata": {},
   "outputs": [],
   "source": [
    "from tidy_tweet import initialise_sqlite, load_twarc_json_to_sqlite\n",
    "import sqlite3\n",
    "from pathlib import Path\n",
    "from IPython.display import Markdown\n",
    "from tabulate import tabulate"
   ]
  },
  {
   "cell_type": "markdown",
   "id": "a53b668e",
   "metadata": {},
   "source": [
    "Configure the paths to where the data is stored:"
   ]
  },
  {
   "cell_type": "code",
   "execution_count": null,
   "id": "7a7e4914",
   "metadata": {},
   "outputs": [],
   "source": [
    "tweet_json_file = Path('ObservatoryTeam.jsonl')\n",
    "tweet_database = Path('ObservatoryTeam_tutorial.db')"
   ]
  },
  {
   "cell_type": "markdown",
   "id": "ca2e23c7",
   "metadata": {},
   "source": [
    "## Use `tidy_tweet` to parse the tweets and load them into a database"
   ]
  },
  {
   "cell_type": "markdown",
   "id": "c38d4f2e",
   "metadata": {},
   "source": [
    "Initialise the database to store the tweet data in:"
   ]
  },
  {
   "cell_type": "code",
   "execution_count": null,
   "id": "87c509b5",
   "metadata": {},
   "outputs": [],
   "source": [
    "initialise_sqlite(tweet_database)"
   ]
  },
  {
   "cell_type": "markdown",
   "id": "f9dfa7db",
   "metadata": {},
   "source": [
    "Now at the path you specified in `tweet_database` will be an SQLite database file with empty tables in it, ready to start loading some tweets into!\n",
    "\n",
    "Let's load the tweet file:"
   ]
  },
  {
   "cell_type": "code",
   "execution_count": null,
   "id": "0fef8991",
   "metadata": {},
   "outputs": [],
   "source": [
    "load_twarc_json_to_sqlite(tweet_json_file, tweet_database)"
   ]
  },
  {
   "cell_type": "markdown",
   "id": "541c96b5",
   "metadata": {},
   "source": [
    "The number returned by `load_twarc_json_to_sqlite()` tells you how many *pages* of Twitter API response results were parsed. The tweets contained in these results pages are now loaded into your database for easy querying!"
   ]
  },
  {
   "cell_type": "markdown",
   "id": "ebafb922",
   "metadata": {},
   "source": [
    "## Explore the tweets in the database using SQL"
   ]
  },
  {
   "cell_type": "markdown",
   "id": "913e325e",
   "metadata": {},
   "source": [
    "Query time!\n",
    "\n",
    "How many tweets do we have in the database?"
   ]
  },
  {
   "cell_type": "code",
   "execution_count": null,
   "id": "841f1d95",
   "metadata": {},
   "outputs": [],
   "source": [
    "with sqlite3.connect(tweet_database) as connection:\n",
    "    db = connection.cursor()\n",
    "\n",
    "    db.execute(\"select count(*) from tweet\")\n",
    "\n",
    "    print(f\"There are {db.fetchone()[0]} tweets in the database!\")"
   ]
  },
  {
   "cell_type": "code",
   "execution_count": null,
   "id": "665b568c",
   "metadata": {},
   "outputs": [],
   "source": [
    "with sqlite3.connect(tweet_database) as connection:\n",
    "    db = connection.cursor()\n",
    "\n",
    "    # Find the 10 dates with the most tweets created within this collection\n",
    "    db.execute(\"\"\"\n",
    "        select \n",
    "            date(created_at) as date_tweeted, \n",
    "            count(*) as num_tweets \n",
    "        from tweet \n",
    "        group by date_tweeted \n",
    "        order by num_tweets desc \n",
    "        limit 10\n",
    "        \"\"\")\n",
    "    \n",
    "    top_10_days = db.fetchall()\n"
   ]
  },
  {
   "cell_type": "markdown",
   "id": "e012f4fa",
   "metadata": {},
   "source": [
    "We could be querying the database directly with a client (*explain*), but since we're doing this in a Jupyter notebook presumably we want to show our results nicely or do programmatic things with them.\n",
    "\n",
    "Let's have a look at a table of our results:"
   ]
  },
  {
   "cell_type": "code",
   "execution_count": null,
   "id": "fde66e19",
   "metadata": {},
   "outputs": [],
   "source": [
    "Markdown(tabulate(top_10_days, headers=[\"Date\", \"Number of tweets\"], tablefmt=\"github\"))"
   ]
  },
  {
   "cell_type": "markdown",
   "id": "41ad5e26",
   "metadata": {},
   "source": [
    "Other examples:\n",
    "\n",
    "- top hashtags, then pick one and read the tweets\n",
    "- domains linked to above a threshold number of times and number of distinct pages linked to for each of them\n",
    "- add annotation column and mark tweets/hashtags of interest? Or add category column to user table and add categories then group/filter tweets by that?\n",
    "- something involving programmatic manipulation in python?"
   ]
  }
 ],
 "metadata": {
  "kernelspec": {
   "display_name": "Python 3 (ipykernel)",
   "language": "python",
   "name": "python3"
  },
  "language_info": {
   "codemirror_mode": {
    "name": "ipython",
    "version": 3
   },
   "file_extension": ".py",
   "mimetype": "text/x-python",
   "name": "python",
   "nbconvert_exporter": "python",
   "pygments_lexer": "ipython3",
   "version": "3.9.9"
  }
 },
 "nbformat": 4,
 "nbformat_minor": 5
}
